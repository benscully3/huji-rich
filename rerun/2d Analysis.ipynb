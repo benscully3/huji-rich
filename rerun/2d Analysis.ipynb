{
 "cells": [
  {
   "cell_type": "markdown",
   "id": "047dc9c1-8f41-4670-b58c-137bd63da625",
   "metadata": {},
   "source": [
    "Rerun"
   ]
  },
  {
   "cell_type": "code",
   "execution_count": 1,
   "id": "8b7caa91",
   "metadata": {},
   "outputs": [],
   "source": [
    "%load_ext autoreload"
   ]
  },
  {
   "cell_type": "code",
   "execution_count": 2,
   "id": "016e8a3a",
   "metadata": {},
   "outputs": [],
   "source": [
    "%autoreload 2"
   ]
  },
  {
   "cell_type": "code",
   "execution_count": 3,
   "id": "f9f2e1b3",
   "metadata": {},
   "outputs": [],
   "source": [
    "import tricontour_animation as ta\n",
    "import h5py\n",
    "import numpy as np\n",
    "import pylab\n",
    "import matplotlib.pyplot as plt\n",
    "import csv\n"
   ]
  },
  {
   "cell_type": "code",
   "execution_count": null,
   "id": "676695a1",
   "metadata": {},
   "outputs": [],
   "source": [
    "ta.main_rho(\"output\")"
   ]
  },
  {
   "cell_type": "code",
   "execution_count": null,
   "id": "b344318f",
   "metadata": {},
   "outputs": [],
   "source": [
    "ta.main_p(\"output\")"
   ]
  },
  {
   "cell_type": "code",
   "execution_count": null,
   "id": "280cd4da",
   "metadata": {},
   "outputs": [],
   "source": [
    "ta.main_vel(\"output\")"
   ]
  },
  {
   "cell_type": "code",
   "execution_count": 4,
   "id": "24f55c31-43c0-45b5-82cd-ac8a98cf44cd",
   "metadata": {},
   "outputs": [
    {
     "name": "stderr",
     "output_type": "stream",
     "text": [
      "100%|██████████████████████████████████████████| 14/14 [00:00<00:00, 455.90it/s]\n",
      "100%|███████████████████████████████████████████| 14/14 [00:00<00:00, 20.55it/s]\n"
     ]
    }
   ],
   "source": [
    "ta.main_s(\"output\")"
   ]
  },
  {
   "cell_type": "code",
   "execution_count": 4,
   "id": "9565bdb0-541f-4b46-83ae-25fb734f8637",
   "metadata": {},
   "outputs": [
    {
     "name": "stderr",
     "output_type": "stream",
     "text": [
      "100%|█████████████████████████████████████████████████████████████████████████████████████████████████████████████████████████████████████████████████████████| 71/71 [01:49<00:00,  1.54s/it]\n",
      "100%|█████████████████████████████████████████████████████████████████████████████████████████████████████████████████████████████████████████████████████████| 71/71 [00:02<00:00, 34.64it/s]\n"
     ]
    }
   ],
   "source": [
    "ta.main_verts(\"output\")"
   ]
  },
  {
   "cell_type": "code",
   "execution_count": null,
   "id": "053ceb6a-8e20-463a-89e0-718657b468ef",
   "metadata": {},
   "outputs": [],
   "source": [
    "ta.main_tracer_depth(\"depth\")"
   ]
  },
  {
   "cell_type": "code",
   "execution_count": null,
   "id": "e6e08076-5be8-474c-b43d-490b78f66ca4",
   "metadata": {},
   "outputs": [],
   "source": [
    "ta.main_tracer(\"38\")"
   ]
  },
  {
   "cell_type": "code",
   "execution_count": null,
   "id": "6cd49331-a4fe-40f3-abb5-d64736954ff5",
   "metadata": {},
   "outputs": [],
   "source": [
    "ta.main_tracer(\"35\")"
   ]
  },
  {
   "cell_type": "code",
   "execution_count": null,
   "id": "ea6c09e5-7d09-46fa-a916-57433f6ad7f0",
   "metadata": {},
   "outputs": [],
   "source": [
    "ta.main_tracer(\"33\")"
   ]
  },
  {
   "cell_type": "code",
   "execution_count": null,
   "id": "6c40fbd1-1d0c-44a5-bd19-2c7580448344",
   "metadata": {},
   "outputs": [],
   "source": [
    "ta.main_tracer(\"35_94\")"
   ]
  },
  {
   "cell_type": "code",
   "execution_count": null,
   "id": "07c1c75d-df1e-4816-8992-40862e7aa0ee",
   "metadata": {},
   "outputs": [],
   "source": [
    "# plot with cell path\n",
    "fig = plt.figure()\n",
    "ax = plt.subplot(111)\n",
    "\n",
    "N = 151;\n",
    "lst = np.zeros((N,2))\n",
    "for i in range(N):\n",
    "    with h5py.File(\"runs_data/big_runs/first_round/-10_0p05_0p0025_0p01/snapshot_{:n}.h5\".format(i),\n",
    "                   'r') as f:\n",
    "        stkr = f['stickers']['38'];\n",
    "        idx = np.where(stkr)\n",
    "        x = np.array(f['geometry']['x_coordinate'])[idx];\n",
    "        y = np.array(f['geometry']['y_coordinate'])[idx];\n",
    "        lst[i,0], lst[i,1] = x,y\n",
    "        \n",
    "    \n",
    "\n",
    "with h5py.File(\"runs_data/big_runs/first_round/-10_0p05_0p0025_0p01/snapshot_0.h5\",\n",
    "               'r') as f:\n",
    "    time = np.array(f['time'])\n",
    "    x = np.array(f['geometry']['x_coordinate']);\n",
    "    y = np.array(f['geometry']['y_coordinate']);\n",
    "    rho = np.array(f['hydrodynamic']['density']);\n",
    "    \n",
    "ax.tricontourf(x,y,np.log10(rho));\n",
    "ax.plot(lst[:,0],lst[:,1])\n",
    "plt.show()"
   ]
  },
  {
   "cell_type": "code",
   "execution_count": null,
   "id": "337f7af9-918e-44ca-b4b2-82ae9b8104ab",
   "metadata": {},
   "outputs": [],
   "source": [
    "N = 95\n",
    "arr = np.zeros(N)\n",
    "r = np.linspace(0,N, N)\n",
    "for i in range(N):\n",
    "    with h5py.File('output/snapshot_{:n}.h5'.format(i),\n",
    "                   'r') as f:\n",
    "        #print(f['stickers'].keys())\n",
    "        tracer = np.array(f['stickers']['33'])\n",
    "        print(np.where(tracer))\n",
    "        p = np.array(f['hydrodynamic']['pressure'])[idx];\n",
    "        rho = np.array(f['hydrodynamic']['density']);\n",
    "        x = np.array(f['geometry']['x_coordinate']);\n",
    "        y = np.array(f['geometry']['y_coordinate']);\n",
    "        #print(idx, p)\n",
    "        arr[i] = p\n",
    "\n",
    "plt.plot(r,arr)\n",
    "plt.show()\n",
    "    \n",
    "    "
   ]
  },
  {
   "cell_type": "code",
   "execution_count": null,
   "id": "ae90a4a6-d579-489d-8e25-3e3049221057",
   "metadata": {},
   "outputs": [],
   "source": [
    "lims = 4\n",
    "with h5py.File(\"initial.h5\",'r') as f1:\n",
    "    with h5py.File(\"output/snapshot_48.h5\",'r') as f2:\n",
    "        #p = np.array(f['hydrodynamic']['pressure']);\n",
    "        rho = np.array(f2['hydrodynamic']['density']);\n",
    "        x1 = np.array(f1['geometry']['x_coordinate']);\n",
    "        y1 = np.array(f1['geometry']['y_coordinate']);\n",
    "        x2 = np.array(f2['geometry']['x_coordinate']);\n",
    "        y2 = np.array(f2['geometry']['y_coordinate']);\n",
    "        t = np.array(f2['time'])[0]\n",
    "        # plt.plot(x1,x2)\n",
    "        # plt.show()\n",
    "        # plt.plot(y1,y2)\n",
    "        print(t)\n",
    "        # plt.tricontourf(x1,y1,np.log(rho))\n",
    "        # plt.title(\"t = {}\".format(t))\n",
    "        # plt.xlim(0,lims)\n",
    "        # plt.ylim(-lims,lims)\n",
    "        # plt.show()"
   ]
  },
  {
   "cell_type": "code",
   "execution_count": 6,
   "id": "f00e00c6-843e-44ac-9e96-9d95dd5e4c01",
   "metadata": {},
   "outputs": [
    {
     "data": {
      "image/png": "[encoded data removed]",
      "text/plain": [
       "<Figure size 432x288 with 1 Axes>"
      ]
     },
     "metadata": {
      "needs_background": "light"
     },
     "output_type": "display_data"
    }
   ],
   "source": [
    "from matplotlib.patches import Polygon\n",
    "from matplotlib.collections import PatchCollection\n",
    "\n",
    "with h5py.File('output/snapshot_13.h5','r') as f:\n",
    "            vert_x_raw = np.array(f['geometry']['x_vertices'])\n",
    "            vert_y_raw = np.array(f['geometry']['y_vertices'])\n",
    "            vert_n_raw = np.array(f['geometry']['n_vertices'])\n",
    "            vert_idx_list = np.concatenate(([0],np.cumsum(vert_n_raw))).astype(int)\n",
    "\n",
    "            polygon_list = [Polygon(\n",
    "                    np.vstack((vert_x_raw[low_idx:high_idx],\n",
    "                                  vert_y_raw[low_idx:high_idx])).T)\n",
    "                            for low_idx, high_idx\n",
    "                            in zip(vert_idx_list[:-1], vert_idx_list[1:])]\n",
    "\n",
    "            patch_collection = PatchCollection(polygon_list, linestyle='-')\n",
    "            z_list = np.clip(np.log10(f['hydrodynamic']['density']), -2, 3)\n",
    "            patch_collection.set_array(z_list)\n",
    "            #patch_collection.set_array(np.log10(f['hydrodynamic']['density']))\n",
    "            #patch_collection.set_array(f['hydrodynamic']['density'])\n",
    "            fig, ax = pylab.subplots()\n",
    "            ax.add_collection(patch_collection)\n",
    "            pylab.suptitle('t = %.4f' % np.array(f['time'])[0])\n",
    "            pylab.axis('scaled')\n",
    "            pylab.xlim((0,0.5))\n",
    "            pylab.ylim((3,4))"
   ]
  },
  {
   "cell_type": "code",
   "execution_count": null,
   "id": "03e49b2d",
   "metadata": {},
   "outputs": [],
   "source": [
    "for i in range(51):\n",
    "    with h5py.File(\"output/snapshot_{:n}.h5\".format(i)\n",
    "                   ,'r') as f:\n",
    "                gamma = 4/3\n",
    "                p = np.array(f['hydrodynamic']['pressure'])\n",
    "                rho = np.array(f['hydrodynamic']['density'])\n",
    "                x = np.array(f['geometry']['x_coordinate'])\n",
    "                y = np.array(f['geometry']['y_coordinate'])\n",
    "                c_s = np.sqrt(gamma*p/rho);\n",
    "                c_max_ind = np.argmax(c_s)\n",
    "                #print(c_max_ind, c_s[c_max_ind])\n",
    "    #             x = np.concatenate((-x, x))\n",
    "    #             y = np.concatenate((-y, y))\n",
    "    #             rho = np.concatenate((rho, rho))\n",
    "                T = p/rho\n",
    "                bs = rho**2*np.sqrt(T)\n",
    "                R = x**2 + y**2\n",
    "                Rx = x[np.where((R >= 0.99) & (R <= 1.01))]\n",
    "                Ry = y[np.where((R >= 0.99) & (R <= 1.01))]\n",
    "                clr = \"black\"\n",
    "                fig = plt.figure()\n",
    "                ax = plt.subplot(111)\n",
    "\n",
    "                circle = plt.Circle((0,0), 1, color=\"w\", fill=False)\n",
    "\n",
    "\n",
    "                # stkr1 = f['stickers']['38']\n",
    "                # stkr2 = f['stickers']['35']\n",
    "                #stkr3 = f['stickers']['33']\n",
    "                # stkr4 = f['stickers']['35_94']\n",
    "                # idx1 = np.where(stkr1)\n",
    "                # idx2 = np.where(stkr2)\n",
    "                #idx3 = np.where(stkr3)\n",
    "    #             idx4 = np.where(stkr4)\n",
    "\n",
    "    #             x1, y1 = x[idx1], y[idx1]\n",
    "    #             x2, y2 = x[idx2], y[idx2]\n",
    "                #x3, y3 = x[idx3], y[idx3]\n",
    "                # x4, y4 = x[idx4], y[idx4]\n",
    "                # x_arr = [x1,x2,x3,x4]\n",
    "                # y_arr = [y1,y2,y3,y4]\n",
    "\n",
    "\n",
    "                #ax.plot(x3, y3, 'w.', markersize=5)\n",
    "\n",
    "                sp = ax.tricontourf(x, y, np.log(rho),\n",
    "                                  50, cmap='plasma')\n",
    "                ax.tricontourf(-x, y, np.log(rho),\n",
    "                               50, cmap='plasma')\n",
    "                #ax.add_patch(circle)\n",
    "\n",
    "                ax.set_title('Density Distribution \\n t = %1.4f' % np.array(f['time'])[0], color=clr)\n",
    "                cb = fig.colorbar(sp)\n",
    "                cb.set_label('log(Density)', color=clr)\n",
    "                cb.ax.yaxis.set_tick_params(color=clr, labelcolor=clr)\n",
    "                ax.axis('scaled')\n",
    "                ax.set_xlabel(\"x\", color=clr)\n",
    "                ax.set_ylabel(\"y\", color=clr)\n",
    "                ax.spines['bottom'].set_color(clr)\n",
    "                ax.tick_params(axis='x', colors=clr)\n",
    "                ax.spines['left'].set_color(clr)\n",
    "                ax.tick_params(axis='y', colors=clr)\n",
    "                lim=3\n",
    "                ax.set_xlim((-lim,lim))\n",
    "                ax.set_ylim((-lim,lim))\n",
    "                pylab.savefig(\"images/img{:n}.png\".format(i))"
   ]
  },
  {
   "cell_type": "code",
   "execution_count": null,
   "id": "6fb1b1d7-6b7b-4569-ba92-714c04071592",
   "metadata": {},
   "outputs": [],
   "source": [
    "lim = 1\n",
    "\n",
    "def close_0(val, tol):\n",
    "    return ((val < -tol) | (val > tol))\n",
    "    \n",
    "\n",
    "with h5py.File(\"initial.h5\",'r') as f1:\n",
    "    with h5py.File(\"checkpoint.h5\",'r') as f2:\n",
    "        p1 = np.array(f1['hydrodynamic']['pressure'])\n",
    "        p2 = np.array(f2['hydrodynamic']['pressure'])\n",
    "        p = (p1 - p2)\n",
    "        #idx = np.where(close_0(p, 1e-5))[0]\n",
    "        idx = np.where(p != 0)[0]\n",
    "        n = np.linspace(0,len(p),len(p))\n",
    "        print(len(p), len(idx))\n",
    "        p_idx = p[idx]\n",
    "        fig = plt.figure()\n",
    "        ax1 = plt.subplot(121)\n",
    "        ax2 = plt.subplot(122)\n",
    "        x = np.array(f1['geometry']['x_coordinate'])\n",
    "        y = np.array(f1['geometry']['y_coordinate'])\n",
    "        ax1.plot(n,p, 'r.', markersize = 1)\n",
    "        mx = np.argmax(p)\n",
    "        max_x, max_y = x[mx],y[mx]\n",
    "        print(min(p), max(p))\n",
    "        print(max_x, max_y)\n",
    "        #plt.show()\n",
    "        \n",
    "        \n",
    "        sp = ax2.tricontourf(x, y, p1,\n",
    "                       140, cmap='plasma')\n",
    "        fig.colorbar(sp)\n",
    "        ax2.set_xlim(0,lim)\n",
    "        ax2.set_ylim(-lim,lim)\n"
   ]
  },
  {
   "cell_type": "code",
   "execution_count": null,
   "id": "f4c47805-d8a4-4f1f-94dd-ca79672fce7f",
   "metadata": {},
   "outputs": [],
   "source": [
    "with h5py.File(\"output/snapshot_{:n}.h5\".format(i)\n",
    "                   ,'r') as f:\n",
    "                gamma = 4/3\n",
    "                p = np.array(f['hydrodynamic']['pressure'])\n",
    "                rho = np.array(f['hydrodynamic']['density'])\n",
    "                x = np.array(f['geometry']['x_coordinate'])\n",
    "                y = np.array(f['geometry']['y_coordinate'])\n",
    "                c_s = np.sqrt(gamma*p/rho);\n",
    "                c_max_ind = np.argmax(c_s)\n",
    "                #print(c_max_ind, c_s[c_max_ind])\n",
    "    #             x = np.concatenate((-x, x))\n",
    "    #             y = np.concatenate((-y, y))\n",
    "    #             rho = np.concatenate((rho, rho))\n",
    "                T = p/rho\n",
    "                bs = rho**2*np.sqrt(T)\n",
    "                R = x**2 + y**2\n",
    "                Rx = x[np.where((R >= 0.99) & (R <= 1.01))]\n",
    "                Ry = y[np.where((R >= 0.99) & (R <= 1.01))]\n",
    "                clr = \"black\"\n",
    "                fig = plt.figure()\n",
    "                ax = plt.subplot(111)\n",
    "\n",
    "                circle = plt.Circle((0,0), 1, color=\"w\", fill=False)\n",
    "\n",
    "\n",
    "                # stkr1 = f['stickers']['38']\n",
    "                # stkr2 = f['stickers']['35']\n",
    "                #stkr3 = f['stickers']['33']\n",
    "                # stkr4 = f['stickers']['35_94']\n",
    "                # idx1 = np.where(stkr1)\n",
    "                # idx2 = np.where(stkr2)\n",
    "                #idx3 = np.where(stkr3)\n",
    "    #             idx4 = np.where(stkr4)\n",
    "\n",
    "    #             x1, y1 = x[idx1], y[idx1]\n",
    "    #             x2, y2 = x[idx2], y[idx2]\n",
    "                #x3, y3 = x[idx3], y[idx3]\n",
    "                # x4, y4 = x[idx4], y[idx4]\n",
    "                # x_arr = [x1,x2,x3,x4]\n",
    "                # y_arr = [y1,y2,y3,y4]\n",
    "\n",
    "\n",
    "                #ax.plot(x3, y3, 'w.', markersize=5)\n",
    "\n",
    "                sp = ax.tricontourf(x, y, np.log(rho),\n",
    "                                  50, cmap='plasma')\n",
    "                ax.tricontourf(-x, y, np.log(rho),\n",
    "                               50, cmap='plasma')\n",
    "                #ax.add_patch(circle)\n",
    "\n",
    "                ax.set_title('Density Distribution \\n t = %1.4f' % np.array(f['time'])[0], color=clr)\n",
    "                cb = fig.colorbar(sp)\n",
    "                cb.set_label('log(Density)', color=clr)\n",
    "                cb.ax.yaxis.set_tick_params(color=clr, labelcolor=clr)\n",
    "                ax.axis('scaled')\n",
    "                ax.set_xlabel(\"x\", color=clr)\n",
    "                ax.set_ylabel(\"y\", color=clr)\n",
    "                ax.spines['bottom'].set_color(clr)\n",
    "                ax.tick_params(axis='x', colors=clr)\n",
    "                ax.spines['left'].set_color(clr)\n",
    "                ax.tick_params(axis='y', colors=clr)\n",
    "                lim=3\n",
    "                ax.set_xlim((-lim,lim))\n",
    "                ax.set_ylim((-lim,lim))\n",
    "                pylab.savefig(\"images/img{:n}.png\".format(i))"
   ]
  },
  {
   "cell_type": "code",
   "execution_count": null,
   "id": "34d6f914",
   "metadata": {},
   "outputs": [],
   "source": [
    "fig = plt.figure(figsize=(12,12))\n",
    "gs = fig.add_gridspec(1, 1)\n",
    "fg = gs.subplots()\n",
    "\n",
    "\n",
    "with h5py.File(\"output/snapshot_0.h5\", 'r') as f:\n",
    "    x = np.array(f['geometry']['x_coordinate']);\n",
    "    y = np.array(f['geometry']['y_coordinate']);\n",
    "    rho = np.array(f['hydrodynamic']['density'])\n",
    "    fg.scatter(x,y, s=1)\n",
    "    r_ind = np.where(np.sqrt(x**2 + y**2) < 1)\n",
    "    int_cells = np.size(x[r_ind])\n",
    "    cells = np.size(x)\n",
    "    res = np.sqrt(int_cells/(np.pi/2))\n",
    "    print(\"\"\"There are {:n} cells, {:n} interior to the stellar radius and\n",
    "    the effective resolution of the stellar radius is {:n}\"\"\".format(cells, int_cells, res))\n",
    "    # rho_s = rho[np.where(rho>1.1e-15)]\n",
    "    rho_s = rho[r_ind]\n",
    "    rho_min = np.amin(rho_s)\n",
    "    typ_rho = (np.pi/(2*int_cells))**(3/2)\n",
    "    print(\"Min rho={:e}, typical min rho={:e}\".format(rho_min, typ_rho))\n",
    "    fg.set_xlim(0,0.1)\n",
    "    fg.set_ylim(-1,1)\n",
    "    plt.show()\n",
    "    "
   ]
  },
  {
   "cell_type": "code",
   "execution_count": null,
   "id": "099efa1e",
   "metadata": {},
   "outputs": [],
   "source": [
    "data = np.loadtxt(\"tracked_cell_33_97.txt\", delimiter=',');\n",
    "data = np.transpose(data);\n",
    "t = data[1]\n",
    "x = data[2]\n",
    "y = data[3]\n",
    "print(len(x), y)\n",
    "plt.scatter(x,y, c=t, cmap='viridis');\n",
    "plt.xlabel(\"x\")\n",
    "plt.ylabel(\"y\")\n",
    "plt.xlim(0,4);\n",
    "plt.ylim(0,4);\n",
    "plt.colorbar()\n",
    "plt.show()\n",
    "            "
   ]
  },
  {
   "cell_type": "code",
   "execution_count": null,
   "id": "2f293d81-b093-4701-b8e5-0f1f7ff8081b",
   "metadata": {},
   "outputs": [],
   "source": [
    "def g_arr(r, R=1, dr_c=0.05, dr_s=0.005, alpha=0.05, b=1):\n",
    "    g1 = dr_s + (dr_c - dr_s)*(1-r/R)**b;\n",
    "    #g2 = dr_s + (2*alpha*R - dr_s)*(r/R - 1);\n",
    "    g = r*0;\n",
    "    #g[r<R] = g1[r<R];\n",
    "    #g[r>=R] = g2[r>R];\n",
    "    gmax = alpha*r/R;\n",
    "    res = g1;\n",
    "    #res[r>R] = np.minimum(res[r>R], gmax[r>R]);\n",
    "    return res\n",
    "\n"
   ]
  },
  {
   "cell_type": "code",
   "execution_count": null,
   "id": "239b42a6-a745-43c4-a901-d36c5ec138fc",
   "metadata": {},
   "outputs": [],
   "source": [
    "rho = np.loadtxt(\"polytrope_rho.txt\")\n",
    "r = np.loadtxt(\"polytrope_r.txt\")\n",
    "m = 4*np.pi*r**2*rho\n",
    "m_int= np.cumsum(m)\n",
    "E_in = 1\n",
    "v_s = 0.794*np.sqrt(E_in/m)*(m/(rho*r**3))**0.19\n",
    "\n",
    "\n",
    "dr = g_arr(r, 1, 0.025, 0.002, 0.01, 1);\n",
    "\n",
    "dt = 0.3*dr/v_s\n",
    "csEXT = dr/dt\n",
    "print(np.nanmin(csEXT))"
   ]
  },
  {
   "cell_type": "code",
   "execution_count": null,
   "id": "949319ff-a50a-490b-afdd-374d216992b5",
   "metadata": {},
   "outputs": [],
   "source": [
    "print(dt_min)\n",
    "plt.scatter(r, dt)\n",
    "plt.show()"
   ]
  },
  {
   "cell_type": "code",
   "execution_count": null,
   "id": "24a4bc22-b34e-4a0d-a2ab-818cd8d14c68",
   "metadata": {},
   "outputs": [],
   "source": [
    "import re"
   ]
  },
  {
   "cell_type": "code",
   "execution_count": null,
   "id": "8c7cc0b2-c37d-426b-8099-b3ea87fb44b7",
   "metadata": {},
   "outputs": [],
   "source": [
    "\n",
    "fpath1 = \"runs_data/big_runs/first_round/-10_0p05_0p0025_0p01/snapshot_96\"\n",
    "fpath2 = \"runs_data/big_runs/f_27_f_04/-10_0p05_0p0025_0p01/snapshot_78\"\n",
    "fpath3 = \"output/snapshot_20\"\n",
    "\n",
    "lst = re.findall(r'_(\\d+)', fpath3)[-1]\n",
    "#brk = int(re.search(r'_(\\d+)\\.',fpath3).group(1))\n",
    "res = int(re.findall(r'_(\\d+)',fpath3)[-1])\n",
    "print(lst, type(lst), res, type(res))"
   ]
  },
  {
   "cell_type": "code",
   "execution_count": null,
   "id": "56f52ed5-ff4e-4574-8f09-cae7c50321e6",
   "metadata": {},
   "outputs": [],
   "source": []
  }
 ],
 "metadata": {
  "kernelspec": {
   "display_name": "Python 3 (ipykernel)",
   "language": "python",
   "name": "python3"
  },
  "language_info": {
   "codemirror_mode": {
    "name": "ipython",
    "version": 3
   },
   "file_extension": ".py",
   "mimetype": "text/x-python",
   "name": "python",
   "nbconvert_exporter": "python",
   "pygments_lexer": "ipython3",
   "version": "3.10.2"
  }
 },
 "nbformat": 4,
 "nbformat_minor": 5
}
